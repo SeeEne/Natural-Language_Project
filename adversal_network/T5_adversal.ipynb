{
 "cells": [
  {
   "cell_type": "code",
   "execution_count": 47,
   "metadata": {},
   "outputs": [],
   "source": [
    "import torch\n",
    "import torch.nn as nn\n",
    "from torch.utils.data import Dataset, DataLoader\n",
    "from transformers import T5Tokenizer\n",
    "import pandas as pd\n",
    "from sklearn.model_selection import train_test_split\n"
   ]
  },
  {
   "cell_type": "code",
   "execution_count": 48,
   "metadata": {},
   "outputs": [],
   "source": [
    "data = pd.read_csv('../data_preprocess/datasets_combine.csv')\n",
    "device = torch.device('cuda' if torch.cuda.is_available() else 'cpu')"
   ]
  },
  {
   "cell_type": "code",
   "execution_count": 49,
   "metadata": {},
   "outputs": [
    {
     "name": "stderr",
     "output_type": "stream",
     "text": [
      "Special tokens have been added in the vocabulary, make sure the associated word embeddings are fine-tuned or trained.\n"
     ]
    },
    {
     "name": "stdout",
     "output_type": "stream",
     "text": [
      "Epoch: 1, Loss: 0.473361799366112\n",
      "Val Loss: 0.16473407106417598, Val Accuracy: 0.9505546751188589\n",
      "Epoch: 2, Loss: 0.13327008448776942\n",
      "Val Loss: 0.09669041281772985, Val Accuracy: 0.9730586370839936\n",
      "Epoch: 3, Loss: 0.0621312454908709\n",
      "Val Loss: 0.07547362093729051, Val Accuracy: 0.9746434231378764\n",
      "Epoch: 4, Loss: 0.03647536488509254\n",
      "Val Loss: 0.07576398156357533, Val Accuracy: 0.9787638668779715\n",
      "Epoch: 5, Loss: 0.02186759938810115\n",
      "Val Loss: 0.0605934624456697, Val Accuracy: 0.9835182250396196\n",
      "Epoch: 6, Loss: 0.016566641812943678\n",
      "Val Loss: 0.07006414400677037, Val Accuracy: 0.9800316957210776\n",
      "Epoch: 7, Loss: 0.02722100250532002\n",
      "Val Loss: 0.07777195953002031, Val Accuracy: 0.9752773375594295\n",
      "Epoch: 8, Loss: 0.01524749070456063\n",
      "Val Loss: 0.06578706750514532, Val Accuracy: 0.9819334389857369\n"
     ]
    }
   ],
   "source": [
    "# Dataset class\n",
    "class TextDataset(Dataset):\n",
    "    def __init__(self, texts, labels, tokenizer, max_length=128):\n",
    "        self.texts = texts\n",
    "        self.labels = labels\n",
    "        self.tokenizer = tokenizer\n",
    "        self.max_length = max_length\n",
    "\n",
    "    def __len__(self):\n",
    "        return len(self.texts)\n",
    "\n",
    "    def __getitem__(self, idx):\n",
    "        text = self.texts[idx]\n",
    "        label = self.labels[idx]\n",
    "        encoding = self.tokenizer.encode_plus(\n",
    "            text,\n",
    "            add_special_tokens=True,\n",
    "            max_length=self.max_length,\n",
    "            padding='max_length',\n",
    "            truncation=True,\n",
    "            return_attention_mask=False,\n",
    "            return_tensors='pt'\n",
    "        )\n",
    "        return {\n",
    "            'input_ids': encoding['input_ids'].flatten(),\n",
    "            'label': torch.tensor(label, dtype=torch.long)\n",
    "        }\n",
    "\n",
    "# LSTM Classifier Model\n",
    "class LSTMClassifier(nn.Module):\n",
    "    def __init__(self, embedding_dim, hidden_dim, vocab_size, output_dim):\n",
    "        super(LSTMClassifier, self).__init__()\n",
    "        self.embedding = nn.Embedding(vocab_size, embedding_dim)\n",
    "        self.lstm = nn.LSTM(embedding_dim, hidden_dim, batch_first=True)\n",
    "        self.fc = nn.Linear(hidden_dim, output_dim)\n",
    "\n",
    "    def forward(self, input_ids):\n",
    "        embedded = self.embedding(input_ids)\n",
    "        lstm_out, (hidden, _) = self.lstm(embedded)\n",
    "        out = self.fc(hidden[-1])\n",
    "        return out\n",
    "\n",
    "def validate(model, val_loader, criterion, device):\n",
    "    model.eval()\n",
    "    total_loss = 0\n",
    "    correct_predictions = 0\n",
    "    with torch.no_grad():\n",
    "        for batch in val_loader:\n",
    "            input_ids = batch['input_ids'].to(device)\n",
    "            labels = batch['label'].to(device)\n",
    "            outputs = model(input_ids)\n",
    "            loss = criterion(outputs, labels)\n",
    "            total_loss += loss.item()\n",
    "\n",
    "            _, predicted = torch.max(outputs, dim=1)\n",
    "            correct_predictions += (predicted == labels).sum().item()\n",
    "\n",
    "    avg_loss = total_loss / len(val_loader)\n",
    "    accuracy = correct_predictions / len(val_loader.dataset)\n",
    "    return avg_loss, accuracy\n",
    "\n",
    "\n",
    "# Model hyperparameters\n",
    "EMBEDDING_DIM = 100\n",
    "HIDDEN_DIM = 128\n",
    "OUTPUT_DIM = 2  # Adjust based on the number of target classes\n",
    "num_epoch = 8\n",
    "\n",
    "# Initialize T5 tokenizer\n",
    "tokenizer = T5Tokenizer.from_pretrained('t5-small')\n",
    "VOCAB_SIZE = tokenizer.vocab_size\n",
    "\n",
    "# Prepare the dataset and dataloader\n",
    "train_texts, val_texts, train_labels, val_labels = train_test_split(data['sentence'], data['label'], test_size=0.2)\n",
    "train_dataset = TextDataset(train_texts.tolist(), train_labels.tolist(), tokenizer, max_length=128)\n",
    "val_dataset = TextDataset(val_texts.tolist(), val_labels.tolist(), tokenizer, max_length=128)\n",
    "\n",
    "train_loader = DataLoader(train_dataset, batch_size=32, shuffle=True)\n",
    "val_loader = DataLoader(val_dataset, batch_size=32, shuffle=False)\n",
    "\n",
    "# Initialize the model\n",
    "model = LSTMClassifier(EMBEDDING_DIM, HIDDEN_DIM, VOCAB_SIZE, OUTPUT_DIM).to(device)\n",
    "\n",
    "# Training setup\n",
    "criterion = nn.CrossEntropyLoss()\n",
    "optimizer = torch.optim.Adam(model.parameters(), lr=0.001)\n",
    "\n",
    "# Training loop\n",
    "for epoch in range(num_epoch):  # Number of epochs\n",
    "    model.train()\n",
    "    total_loss = 0\n",
    "    for batch in train_loader:\n",
    "        input_ids = batch['input_ids'].to(device)\n",
    "        labels = batch['label'].to(device)\n",
    "        optimizer.zero_grad()\n",
    "        predictions = model(input_ids)\n",
    "        loss = criterion(predictions, labels)\n",
    "        loss.backward()\n",
    "        optimizer.step()\n",
    "        total_loss += loss.item()\n",
    "        \n",
    "    val_loss, val_accuracy = validate(model, val_loader, criterion, device)\n",
    "    print(f'Epoch: {epoch + 1}, Loss: {total_loss / len(train_loader)}')\n",
    "    print(f'Val Loss: {val_loss}, Val Accuracy: {val_accuracy}')\n",
    "\n",
    "# Save the model\n",
    "torch.save(model.state_dict(), 'lstm_model.pth')"
   ]
  },
  {
   "cell_type": "code",
   "execution_count": 67,
   "metadata": {},
   "outputs": [
    {
     "data": {
      "text/plain": [
       "tensor([9.9935e-01, 6.5393e-04], device='cuda:0')"
      ]
     },
     "execution_count": 67,
     "metadata": {},
     "output_type": "execute_result"
    }
   ],
   "source": [
    "# input a sentence and get the prediction\n",
    "def predict(text, model=model, tokenizer=tokenizer, device=device):\n",
    "    model.eval()\n",
    "    with torch.no_grad():\n",
    "        encoding = tokenizer.encode_plus(\n",
    "            text,\n",
    "            add_special_tokens=True,\n",
    "            max_length=128,\n",
    "            padding='max_length',\n",
    "            truncation=True,\n",
    "            return_attention_mask=False,\n",
    "            return_tensors='pt'\n",
    "        )\n",
    "        input_ids = encoding['input_ids'].flatten().to(device)\n",
    "        outputs = model(input_ids)\n",
    "\n",
    "        # normalize the scores to all positive and sum to 1\n",
    "        outputs = torch.nn.functional.softmax(outputs, dim=0)\n",
    "\n",
    "        return outputs\n",
    "    \n",
    "text = data.iloc[3]['sentence']\n",
    "predict(text, model, tokenizer, device) \n"
   ]
  }
 ],
 "metadata": {
  "kernelspec": {
   "display_name": "base",
   "language": "python",
   "name": "python3"
  },
  "language_info": {
   "codemirror_mode": {
    "name": "ipython",
    "version": 3
   },
   "file_extension": ".py",
   "mimetype": "text/x-python",
   "name": "python",
   "nbconvert_exporter": "python",
   "pygments_lexer": "ipython3",
   "version": "3.8.0"
  }
 },
 "nbformat": 4,
 "nbformat_minor": 2
}

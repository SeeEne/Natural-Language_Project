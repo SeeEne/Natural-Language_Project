{
 "cells": [
  {
   "cell_type": "code",
   "execution_count": 64,
   "metadata": {},
   "outputs": [],
   "source": [
    "\n",
    "from datasets import load_dataset\n",
    "import pandas as pd\n",
    "import random"
   ]
  },
  {
   "cell_type": "code",
   "execution_count": 65,
   "metadata": {},
   "outputs": [],
   "source": [
    "datasets_email = load_dataset('cnn_dailymail','3.0.0')\n",
    "datasets_shakespeare = load_dataset('tiny_shakespeare')"
   ]
  },
  {
   "cell_type": "code",
   "execution_count": 66,
   "metadata": {},
   "outputs": [],
   "source": [
    "def pre_process_email(datasets_email):\n",
    "    # combine cnn_dailymail train, validation, test to one dataset\n",
    "    datasets_email_train = datasets_email['train'].to_pandas()\n",
    "    datasets_email_val = datasets_email['validation'].to_pandas()\n",
    "    datasets_email_test = datasets_email['test'].to_pandas()\n",
    "    datasets_email_all = pd.concat([datasets_email_train, datasets_email_val, datasets_email_test])\n",
    "    datasets_email_all_highlights = datasets_email_all['highlights']\n",
    "    \n",
    "    # iterate through all row\n",
    "    datasets_email_sentence = []\n",
    "    for index, row in datasets_email_all_highlights.items():\n",
    "        data = row.split('.')\n",
    "        for sentence in data:\n",
    "            datasets_email_sentence.append(sentence)\n",
    "            \n",
    "    # remove \"\"\n",
    "    datasets_email_sentence = [x for x in datasets_email_sentence if x != '']\n",
    "\n",
    "    # remove \\n in sentence\n",
    "    datasets_email_sentence = [x.replace('\\n','') for x in datasets_email_sentence]\n",
    "\n",
    "    # remove ultra space\n",
    "    datasets_email_sentence = [x.strip() for x in datasets_email_sentence]\n",
    "\n",
    "    # remove sentence with length less than 5\n",
    "    datasets_email_sentence = [x for x in datasets_email_sentence if len(x) > 5]\n",
    "    \n",
    "    return datasets_email_sentence"
   ]
  },
  {
   "cell_type": "code",
   "execution_count": 67,
   "metadata": {},
   "outputs": [],
   "source": [
    "def pre_process_shakespeare(datasets_shakespeare):\n",
    "    # combine tiny_shakespeare train, validation, test to one dataset\n",
    "    datasets_shakespeare_train = datasets_shakespeare['train'].to_pandas()\n",
    "    datasets_shakespeare_val = datasets_shakespeare['validation'].to_pandas()\n",
    "    datasets_shakespeare_test = datasets_shakespeare['test'].to_pandas()\n",
    "    datasets_shakespeare_all = pd.concat([datasets_shakespeare_train, datasets_shakespeare_val, datasets_shakespeare_test])\n",
    "    datasets_shakespeare_all_text = datasets_shakespeare_all['text']\n",
    "    \n",
    "    # iterate through all row\n",
    "    datasets_shakespeare_sentence = []\n",
    "    for index, row in datasets_shakespeare_all_text.items():\n",
    "        data = row.split('.')\n",
    "        for sentence in data:\n",
    "            datasets_shakespeare_sentence.append(sentence)\n",
    "            \n",
    "    # remove \"\"\n",
    "    datasets_shakespeare_sentence = [x for x in datasets_shakespeare_sentence if x != '']\n",
    "\n",
    "    # remove \\n in sentence\n",
    "    datasets_shakespeare_sentence = [x.replace('\\n','') for x in datasets_shakespeare_sentence]\n",
    "\n",
    "    # remove ultra space\n",
    "    datasets_shakespeare_sentence = [x.strip() for x in datasets_shakespeare_sentence]\n",
    "\n",
    "    # remove sentence with length less than 5\n",
    "    datasets_shakespeare_sentence = [x for x in datasets_shakespeare_sentence if len(x) > 5]\n",
    "    \n",
    "    return datasets_shakespeare_sentence"
   ]
  },
  {
   "cell_type": "code",
   "execution_count": 68,
   "metadata": {},
   "outputs": [],
   "source": [
    "def combine_datasets(datasets_email_sentence, datasets_shakespeare_sentence):\n",
    "    # two list should be same length, randomly sampling \n",
    "    random.seed(42)\n",
    "    random.shuffle(datasets_email_sentence)\n",
    "    datasets_email_sentence = datasets_email_sentence[:len(datasets_shakespeare_sentence)]\n",
    "    \n",
    "    # create dataframe datasets_email_sentence with label 0, datasets_shakespeare_sentence with label 1\n",
    "    datasets_email_sentence = pd.DataFrame(datasets_email_sentence, columns=['sentence'])\n",
    "    datasets_email_sentence['label'] = 0\n",
    "    datasets_shakespeare_sentence = pd.DataFrame(datasets_shakespeare_sentence, columns=['sentence'])\n",
    "    datasets_shakespeare_sentence['label'] = 1\n",
    "    \n",
    "    # combine two dataframe\n",
    "    datasets_combine = pd.concat([datasets_email_sentence, datasets_shakespeare_sentence])\n",
    "    \n",
    "    # shuffle dataframe\n",
    "    datasets_combine = datasets_combine.sample(frac=1).reset_index(drop=True)\n",
    "    \n",
    "    # write to csv\n",
    "    datasets_combine.to_csv('datasets_combine.csv', index=False)"
   ]
  },
  {
   "cell_type": "code",
   "execution_count": 69,
   "metadata": {},
   "outputs": [],
   "source": [
    "datasets_email_sentence = pre_process_email(datasets_email)\n",
    "datasets_shakespeare_sentence = pre_process_shakespeare(datasets_shakespeare)\n",
    "combine_datasets(datasets_email_sentence, datasets_shakespeare_sentence)"
   ]
  }
 ],
 "metadata": {
  "kernelspec": {
   "display_name": "base",
   "language": "python",
   "name": "python3"
  },
  "language_info": {
   "codemirror_mode": {
    "name": "ipython",
    "version": 3
   },
   "file_extension": ".py",
   "mimetype": "text/x-python",
   "name": "python",
   "nbconvert_exporter": "python",
   "pygments_lexer": "ipython3",
   "version": "3.8.0"
  }
 },
 "nbformat": 4,
 "nbformat_minor": 2
}
